{
 "cells": [
  {
   "cell_type": "raw",
   "id": "ce2827e2-c883-4b8b-812d-82cf4273f481",
   "metadata": {},
   "source": [
    "---\n",
    "skip_exec: true\n",
    "---"
   ]
  },
  {
   "cell_type": "markdown",
   "id": "180ea58e-df0e-4d17-804e-07be8c5a5314",
   "metadata": {},
   "source": [
    "# Tutorial ABM virtual environment\n",
    "\n",
    "First step is to install the library, you just need to go the folder of the forked / cloned repo (i.e. inside `your_path/rl_opts/`) and run (see more in the Readme of the library)\n",
    "\n",
    "`\n",
    "pip install -e .\n",
    "`\n",
    "\n",
    "\n",
    "Now we can import the virtual environment + other libraries we will need later:"
   ]
  },
  {
   "cell_type": "code",
   "execution_count": null,
   "id": "b2c45536-7d5b-4526-9611-22b33f99e362",
   "metadata": {},
   "outputs": [],
   "source": [
    "from rl_opts.virtual_abm import virtual_ABM\n",
    "\n",
    "import numpy as np\n",
    "import matplotlib.pyplot as plt\n",
    "from matplotlib import patches"
   ]
  },
  {
   "cell_type": "markdown",
   "id": "47de0595-70a1-4f0a-a3e9-eec1021cd28e",
   "metadata": {},
   "source": [
    "Here is the documentation of this class:"
   ]
  },
  {
   "cell_type": "code",
   "execution_count": null,
   "id": "f31ee0e5-f8c8-4a32-a3fb-58ba8e6372df",
   "metadata": {},
   "outputs": [
    {
     "data": {
      "text/markdown": [
       "---\n",
       "\n",
       "[source](https://github.com/gorkamunoz/rl_opts/blob/master/rl_opts/virtual_abm.py#LNone){target=\"_blank\" style=\"float:right; font-size:smaller\"}\n",
       "\n",
       "### virtual_ABM\n",
       "\n",
       ">      virtual_ABM (num_episodes:int=None, time_ep:int=None, L:float=5,\n",
       ">                   r:float=1, max_counter:int=500, gamma_damping:float=0.001,\n",
       ">                   eta_glow_damping:float=0.001, max_no_H_update:int=10000)\n",
       "\n",
       "*Initialize self.  See help(type(self)) for accurate signature.*\n",
       "\n",
       "|    | **Type** | **Default** | **Details** |\n",
       "| -- | -------- | ----------- | ----------- |\n",
       "| num_episodes | int | None | If int, number of episodes. If None, don't consider episodes |\n",
       "| time_ep | int | None | If int, length of an episodes. If episodes = None, it is not considered. |\n",
       "| L | float | 5 | Size of the environment |\n",
       "| r | float | 1 | Radius of the target |\n",
       "| max_counter | int | 500 | Maximum number for the agent's phase counter (i.e. what it gets as station) |\n",
       "| gamma_damping | float | 0.001 | Gamma of PS |\n",
       "| eta_glow_damping | float | 0.001 | Glow of PS |\n",
       "| max_no_H_update | int | 10000 | maximum number of steps before an update of H and G matrices. |"
      ],
      "text/plain": [
       "---\n",
       "\n",
       "[source](https://github.com/gorkamunoz/rl_opts/blob/master/rl_opts/virtual_abm.py#LNone){target=\"_blank\" style=\"float:right; font-size:smaller\"}\n",
       "\n",
       "### virtual_ABM\n",
       "\n",
       ">      virtual_ABM (num_episodes:int=None, time_ep:int=None, L:float=5,\n",
       ">                   r:float=1, max_counter:int=500, gamma_damping:float=0.001,\n",
       ">                   eta_glow_damping:float=0.001, max_no_H_update:int=10000)\n",
       "\n",
       "*Initialize self.  See help(type(self)) for accurate signature.*\n",
       "\n",
       "|    | **Type** | **Default** | **Details** |\n",
       "| -- | -------- | ----------- | ----------- |\n",
       "| num_episodes | int | None | If int, number of episodes. If None, don't consider episodes |\n",
       "| time_ep | int | None | If int, length of an episodes. If episodes = None, it is not considered. |\n",
       "| L | float | 5 | Size of the environment |\n",
       "| r | float | 1 | Radius of the target |\n",
       "| max_counter | int | 500 | Maximum number for the agent's phase counter (i.e. what it gets as station) |\n",
       "| gamma_damping | float | 0.001 | Gamma of PS |\n",
       "| eta_glow_damping | float | 0.001 | Glow of PS |\n",
       "| max_no_H_update | int | 10000 | maximum number of steps before an update of H and G matrices. |"
      ]
     },
     "execution_count": null,
     "metadata": {},
     "output_type": "execute_result"
    }
   ],
   "source": [
    "from nbdev import show_doc\n",
    "show_doc(virtual_ABM)"
   ]
  },
  {
   "cell_type": "markdown",
   "id": "29836350-9784-4689-99b9-6573cfd3a5b1",
   "metadata": {},
   "source": [
    "# Testing on ABM\n",
    "\n",
    "To showcase its working we will import a function that generates displacements via Active Brownian motion:"
   ]
  },
  {
   "cell_type": "code",
   "execution_count": null,
   "id": "6e53eba1-d6b7-473b-83c6-ec450e95b279",
   "metadata": {},
   "outputs": [],
   "source": [
    "from rl_opts.virtual_abm import get_ABM_motion"
   ]
  },
  {
   "cell_type": "markdown",
   "id": "d0b6dc4b-a1f8-49d8-9524-fce8484e7fdb",
   "metadata": {},
   "source": [
    "Let's set some parameters, change them at will!"
   ]
  },
  {
   "cell_type": "code",
   "execution_count": null,
   "id": "58adecca-405f-4443-a154-49e4c81c2ec7",
   "metadata": {},
   "outputs": [],
   "source": [
    "D = 2 # Diffusion coefficient (mum² s⁻¹)\n",
    "L = 100 # Size of the box (mu) \n",
    "tau = L**2 / (4*D) #  Typical time required by a passive particle to cover this distance (s)\n",
    "\n",
    "Pe = 100 # Péclet number\n",
    "v = Pe * L / tau  # self-propulsion velocity\n",
    "dt = 1e-4*tau # Integration time\n",
    "vdt = v*dt \n",
    "ell = 1 # Dimensionless persistence length\n",
    "D_theta = v/ell  # Rotational diffusion coefficient\n",
    "\n",
    "sigma = np.sqrt(2*D*dt); # sigma for translational\n",
    "sigma_theta = np.sqrt(2*D_theta*dt) # sigma for rotational\n",
    "\n",
    "r = 2 # Size of the target"
   ]
  },
  {
   "cell_type": "markdown",
   "id": "b78139a3-4f04-4f97-b664-bb9b62c7b796",
   "metadata": {},
   "source": [
    "And now let's define our virtual wrapper. This wrapper will take care of everything, from the update of the virtual environment (i.e. moving the particle and checking when we find the target) as well as the training the agent. Let's see how that works:"
   ]
  },
  {
   "cell_type": "code",
   "execution_count": null,
   "id": "b7cc883b-95a7-4512-8829-fe230029397a",
   "metadata": {},
   "outputs": [],
   "source": [
    "wrap = virtual_ABM(L = L, r = r) "
   ]
  },
  {
   "cell_type": "markdown",
   "id": "e6a90c9a-a786-4aa5-ae9f-a47c431e99f3",
   "metadata": {},
   "source": [
    "Note that declaring the agent takes a bit because we are using `numba`, which compiles parts of the code in the first run to make subsequent runs much faster. Now, this wrap has only **one** important function: `wrap.step`. This gets as input the displacement you measure in the experiment and outputs the next action. We only have two actions:\n",
    "\n",
    "- 0: continue in the current phase (active or passive)\n",
    "- 1: change phase"
   ]
  },
  {
   "cell_type": "code",
   "execution_count": null,
   "id": "826ead22-55b3-4217-822f-44d432f57967",
   "metadata": {},
   "outputs": [
    {
     "data": {
      "text/plain": [
       "1"
      ]
     },
     "execution_count": null,
     "metadata": {},
     "output_type": "execute_result"
    }
   ],
   "source": [
    "displacement = (0.4, 0.5) # x and y measured displacement\n",
    "\n",
    "wrap.step(displacement)"
   ]
  },
  {
   "cell_type": "markdown",
   "id": "e93928ef-4e8b-44df-b174-9cb027f9b45e",
   "metadata": {},
   "source": [
    "Again, the first run may take a bit longer. Now let's check how this works in a bigger scenario. To get something that resembles more a RL scenario, let's define the same wrapper but with some number of episodes and episode lengths. The wrapper will take care of keeping track of all this."
   ]
  },
  {
   "cell_type": "code",
   "execution_count": null,
   "id": "d2f0b0ad-c594-4589-8b9c-e10b6107e609",
   "metadata": {},
   "outputs": [],
   "source": [
    "wrap = virtual_ABM(L = L, r = r,\n",
    "                   num_episodes = 50,\n",
    "                   time_ep = 100,\n",
    "                   gamma_damping = 0.01, # This is the learning parameter gamma from PS\n",
    "                   eta_glow_damping = 0.001 # This is the learning parameter eta from PS\n",
    "                  ) \n",
    "# I manually change the policy of the agent to have longer passive phases:\n",
    "wrap.agent.h_matrix[0, 1::2] *= 10"
   ]
  },
  {
   "cell_type": "markdown",
   "id": "1b4258e1-bbfb-46c3-bfea-526efcd7b4d4",
   "metadata": {},
   "source": [
    "We can now do a loop in which we get the displacements from the previous ABM functions. We will loop till we reach the max number of episodes"
   ]
  },
  {
   "cell_type": "code",
   "execution_count": null,
   "id": "46be6787-5046-4d6e-820a-0b56369431f5",
   "metadata": {},
   "outputs": [],
   "source": [
    "# We first initialize the environmnet. This initializes the epoch counter, sets the\n",
    "# the particle and agent in random positions and resents resetting some of the learning parameters\n",
    "wrap.init_training()\n",
    "\n",
    "# Initial phase of the agent. Note that the agent always starts in the passive phase. \n",
    "phi =  wrap.current_phase\n",
    "# If you want to start in the active phase, you just need to set:\n",
    "wrap.current_phase = 1\n",
    "# at the start of the code.\n",
    "\n",
    "\n",
    "# We set a random initial direction for the ABM generator\n",
    "theta = 2*np.pi*np.random.rand() \n",
    "\n",
    "# Let's save the position of the agent and targets at each time step and each episode, as well as its phase and rewards \n",
    "particle_pos = np.zeros((wrap.num_episodes, wrap.time_ep, 2))\n",
    "target_pos = np.zeros((wrap.num_episodes, wrap.time_ep, 2))\n",
    "phases = np.zeros((wrap.num_episodes, wrap.time_ep))\n",
    "rewards = np.zeros((wrap.num_episodes, wrap.time_ep))\n",
    "\n",
    "\n",
    "while wrap.epoch < wrap.num_episodes:\n",
    "\n",
    "    # Saving stuff\n",
    "    particle_pos[wrap.epoch, wrap.t_ep] = wrap.env.positions[0]\n",
    "    target_pos[wrap.epoch, wrap.t_ep] = wrap.env.target_positions[0]\n",
    "    phases[wrap.epoch, wrap.t_ep] = wrap.current_phase\n",
    "\n",
    "    # Generating displacement via ABM\n",
    "    x0, y0 = wrap.env.positions[0].copy()\n",
    "    x1, y1, theta = get_ABM_motion(x0, y0, theta, phi, vdt, sigma, sigma_theta, L)\n",
    "\n",
    "    # Now we send this to the wrapper. The step function can also give you the reward if asked:\n",
    "    displacement = (x1-x0, y1-y0)\n",
    "    action, reward = wrap.step(displacement, return_reward=True)\n",
    "\n",
    "    # Update the phase for the ABM generator. This should be the input in the experiment to change phase too.\n",
    "    if action == 1:\n",
    "        phi = 1 - phi\n",
    "\n",
    "    # And let's save the rewards (nothing different than zero to be expected here)\n",
    "    rewards[wrap.epoch-1, wrap.t_ep-1] = reward # minus ones are needed here because wrap.step already updated the epoch and t_ep"
   ]
  },
  {
   "cell_type": "markdown",
   "id": "22fcdc7b-74d4-4328-bcc9-721801399be9",
   "metadata": {},
   "source": [
    "Let's plot the movement of the agent in few episode, together with the position of the target:"
   ]
  },
  {
   "cell_type": "code",
   "execution_count": null,
   "id": "3e1c0a2b-61e4-4bde-ae2e-6f733a8bd415",
   "metadata": {},
   "outputs": [
    {
     "data": {
      "text/plain": [
       "[Text(0, 0.5, '$L = 100 \\\\ \\\\mu m$')]"
      ]
     },
     "execution_count": null,
     "metadata": {},
     "output_type": "execute_result"
    },
    {
     "data": {
      "image/png": "[encoded data removed]",
      "text/plain": [
       "<Figure size 1000x250 with 4 Axes>"
      ]
     },
     "metadata": {},
     "output_type": "display_data"
    }
   ],
   "source": [
    "fig, axs = plt.subplots(1, 4, figsize = (4*2.5, 2.5), tight_layout = True)\n",
    "\n",
    "episodes_vis = [0, 10, 20, 30] # The episodes we will visualize\n",
    "\n",
    "for ax, ep in zip(axs, episodes_vis):\n",
    "    ax.plot(particle_pos[ep,:,0], particle_pos[ep,:,1])\n",
    "    \n",
    "    # Visualizing the target. Note that here I considered that there were not encounters,\n",
    "    # so there was no relocation of the target withing an episode. This won't be true when\n",
    "    # we do proper trainings\n",
    "    circle = patches.Circle((target_pos[ep,0,0],target_pos[ep,0,1]), radius=r, facecolor='C1')\n",
    "    ax.add_patch(circle)\n",
    "    \n",
    "    ax.set_title(f'Episode {ep}')\n",
    "    \n",
    "plt.setp(axs, xlim = (0, L), ylim = (0, L), xticks = [], yticks = [], xlabel = fr'$L = {L} \\ \\mu m$', aspect = 'equal');\n",
    "plt.setp(axs[0], ylabel = fr'$L = {L} \\ \\mu m$')"
   ]
  },
  {
   "cell_type": "markdown",
   "id": "c526cad3-70dd-4821-bd4d-f168b0583a5b",
   "metadata": {},
   "source": [
    "We can also take a look at the phases of the agent during some of the epochs:"
   ]
  },
  {
   "cell_type": "code",
   "execution_count": null,
   "id": "c8540bdb-52da-4019-b1c1-fe6b0be52e36",
   "metadata": {},
   "outputs": [
    {
     "data": {
      "image/png": "[encoded data removed]",
      "text/plain": [
       "<Figure size 1000x250 with 4 Axes>"
      ]
     },
     "metadata": {},
     "output_type": "display_data"
    }
   ],
   "source": [
    "fig, axs = plt.subplots(1, 4, figsize = (4*2.5, 2.5), tight_layout = True)\n",
    "episodes_vis = [0, 10, 20, 30] # The episodes we will visualize\n",
    "\n",
    "for ax, ep in zip(axs, episodes_vis):    \n",
    "    ax.plot(np.arange(wrap.time_ep), phases[ep, :], zorder = 10)\n",
    "    ax.set_title(f'Episode {ep}')\n",
    "\n",
    "    ax.axhline(0, c = 'k', ls = '--', alpha = 0.3)\n",
    "    ax.axhline(1, c = 'k', ls = '--', alpha = 0.3)\n",
    "    \n",
    "plt.setp(axs, xlabel = 'time', yticks = [0,1], yticklabels = []);\n",
    "plt.setp(axs[0], yticklabels = ['passive', 'active']);"
   ]
  },
  {
   "cell_type": "markdown",
   "id": "8585b5e9-e6f2-4a5b-b72e-b30960e85d2d",
   "metadata": {},
   "source": [
    "# Runtimes tests\n",
    "\n",
    "Let's check the runtime of the `wrap.step` function. We create a very efficient training for sparse reward functions, i.e. when very few rewards are given. This is an example of runtime when no reward is given (for that I set a very small `r` so that its almost impossible for the target to land on the target)."
   ]
  },
  {
   "cell_type": "code",
   "execution_count": null,
   "id": "4a147e07-e2a4-4508-9284-bd988b186aa3",
   "metadata": {},
   "outputs": [],
   "source": [
    "wrap = virtual_ABM(L = 1000, r = 0.00001,\n",
    "                   num_episodes = 50,\n",
    "                   time_ep = 100,\n",
    "                   gamma_damping = 0.01, # This is the learning parameter gamma from PS\n",
    "                   eta_glow_damping = 0.001 # This is the learning parameter eta from PS\n",
    "                  ) \n",
    "\n",
    "# Run step functions once to compile\n",
    "wrap.step((0.5, 0.5));"
   ]
  },
  {
   "cell_type": "code",
   "execution_count": null,
   "id": "d69e302e-5e8f-4f0a-a381-ee4eade3a23a",
   "metadata": {},
   "outputs": [
    {
     "name": "stdout",
     "output_type": "stream",
     "text": [
      "5.13 µs ± 3.27 ns per loop (mean ± std. dev. of 7 runs, 100,000 loops each)\n"
     ]
    }
   ],
   "source": [
    "%timeit wrap.step((0.5, 0.5), return_reward = True)"
   ]
  },
  {
   "cell_type": "markdown",
   "id": "47c69505-545a-4af6-a23a-d1539cd396d1",
   "metadata": {},
   "source": [
    "However, our agents may be very very good and get many rewards. To check runtime here, I created a function which sets a case in which we always get reward and hence update the policy of the agent."
   ]
  },
  {
   "cell_type": "code",
   "execution_count": null,
   "id": "8fb49935-d587-4824-8018-e62f42bee7f1",
   "metadata": {},
   "outputs": [],
   "source": [
    "wrap = virtual_ABM(L = 10, r = 0.01,\n",
    "                   num_episodes = 50,\n",
    "                   time_ep = 100,\n",
    "                   gamma_damping = 0.01, # This is the learning parameter gamma from PS\n",
    "                   eta_glow_damping = 0.001 # This is the learning parameter eta from PS\n",
    "                  ) \n",
    "\n",
    "def step_with_reward():\n",
    "    wrap.env.positions = wrap.env.target_positions.copy()\n",
    "    wrap.current_phase = 0\n",
    "    wrap.step((0.5, 0.5), return_reward=True)\n",
    "    "
   ]
  },
  {
   "cell_type": "code",
   "execution_count": null,
   "id": "c46c8802-af96-432f-b833-b9863b5bd282",
   "metadata": {},
   "outputs": [
    {
     "name": "stdout",
     "output_type": "stream",
     "text": [
      "19.7 µs ± 110 ns per loop (mean ± std. dev. of 7 runs, 10,000 loops each)\n"
     ]
    }
   ],
   "source": [
    "%timeit step_with_reward()"
   ]
  }
 ],
 "metadata": {
  "kernelspec": {
   "display_name": "python3",
   "language": "python",
   "name": "python3"
  }
 },
 "nbformat": 4,
 "nbformat_minor": 5
}
