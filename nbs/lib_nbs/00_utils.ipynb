{
 "cells": [
  {
   "cell_type": "markdown",
   "metadata": {},
   "source": [
    "# Utils"
   ]
  },
  {
   "cell_type": "markdown",
   "metadata": {},
   "source": [
    "This notebook gathers multiple functions used as helpers in the library."
   ]
  },
  {
   "cell_type": "code",
   "execution_count": null,
   "metadata": {},
   "outputs": [],
   "source": [
    "#|default_exp utils"
   ]
  },
  {
   "cell_type": "code",
   "execution_count": null,
   "metadata": {},
   "outputs": [],
   "source": [
    "#| export\n",
    "import numpy as np\n",
    "import numba\n",
    "from numba import njit"
   ]
  },
  {
   "cell_type": "markdown",
   "metadata": {},
   "source": [
    "# Helpers for the environments"
   ]
  },
  {
   "cell_type": "code",
   "execution_count": null,
   "metadata": {},
   "outputs": [],
   "source": [
    "#|export\n",
    "def isBetween_c_Vec(a, b, c, r):\n",
    "    \"\"\"\n",
    "    Checks whether point c is crossing the line formed with point a and b.\n",
    "\n",
    "    Parameters\n",
    "    ----------\n",
    "    a : tensor, shape = (1,2)\n",
    "        Previous position.\n",
    "    b : tensor, shape = (1,2)\n",
    "        Current position.\n",
    "    c : tensor, shape = (Nt,2)\n",
    "        Positions of all targets.\n",
    "    r : int/float\n",
    "        Target radius.\n",
    "    \n",
    "    Returns\n",
    "    -------\n",
    "    mask : array of boolean values\n",
    "        True at the indices of found targets.\n",
    "\n",
    "    \"\"\"\n",
    "    \n",
    "    mask = np.array([True]*c.shape[0])\n",
    "    \n",
    "    #exclude the targets whose vertical projection of the vector c-a w.r.t. the vector b-a is larger than the target radius.\n",
    "    mask[np.argwhere(np.abs(np.cross(b-a, c-a))/np.linalg.norm(b-a) > r)] = False    \n",
    "    \n",
    "    #exclude the targets whose scalar product is negative (they are on the other side of the step direction)\n",
    "    dotproduct = (c[:, 0] - a[0]) * (b[0] - a[0]) + (c[:, 1] - a[1])*(b[1] - a[1])\n",
    "    mask[np.argwhere(dotproduct < 0)] = False\n",
    "    \n",
    "    #exclude the targets that are beyond the step.\n",
    "    squaredlengthba = (b[0] - a[0])*(b[0] - a[0]) + (b[1] - a[1])*(b[1] - a[1])\n",
    "    mask[np.argwhere(dotproduct > squaredlengthba)] = False\n",
    "    \n",
    "    return mask"
   ]
  },
  {
   "cell_type": "code",
   "execution_count": null,
   "metadata": {},
   "outputs": [],
   "source": [
    "#|export\n",
    "def coord_mod(coord1, coord2, mod):\n",
    "    \"\"\"\n",
    "    Computes the distance difference between two coordinates, in a world with size 'mod'\n",
    "    and periodic boundary conditions.\n",
    "\n",
    "    Parameters\n",
    "    ----------\n",
    "    coord1 : value, np.array, tensor (can be shape=(n,1))\n",
    "        First coordinate.\n",
    "    coord2 : np.array, tensor -- shape=(1,1)\n",
    "        Second coordinate, substracted from coord1.\n",
    "    mod : int\n",
    "        World size.\n",
    "\n",
    "    Returns\n",
    "    -------\n",
    "    diff_min : float\n",
    "        Distance difference (with correct sign, not absolute value).\n",
    "\n",
    "    \"\"\"\n",
    "    diff = np.remainder(coord1 - coord2, mod)\n",
    "    diff_min = np.minimum(diff, mod-diff)\n",
    "    \n",
    "    diff_min[diff_min != diff] = -diff_min[diff_min != diff]\n",
    "    \n",
    "    return diff_min\n"
   ]
  },
  {
   "cell_type": "code",
   "execution_count": null,
   "metadata": {},
   "outputs": [],
   "source": [
    "#|export\n",
    "def isBetween_c_Vec_nAgents(a, b, c, r):\n",
    "    \"\"\"\n",
    "    Checks whether point c is crossing the line formed with point a and b. Code to run several agents in parallel.\n",
    "\n",
    "    Parameters\n",
    "    ----------\n",
    "    a : array, shape = (n,2)\n",
    "        Previous position of all n agents.\n",
    "    b : array, shape = (n,2)\n",
    "        Current position of all n agents.\n",
    "    c : array, shape = (Nt,2)\n",
    "        Positions of all targets.\n",
    "    r : float\n",
    "        Target radius\n",
    "    \n",
    "    Returns\n",
    "    -------\n",
    "    mask : array of boolean values, shape = (Nt, n)\n",
    "        True at the indices of found targets.\n",
    "\n",
    "    \"\"\"\n",
    "    \n",
    "    mask = np.ones([c.shape[0], a.shape[0]],dtype=bool)\n",
    "    \n",
    "    #exclude the targets whose vertical projection of the vector c-a w.r.t. the vector b-a is larger than the target radius.\n",
    "    for i in range(a.shape[0]):\n",
    "        mask[np.argwhere(np.abs(np.cross(b[i]-a[i], c-a[i]))/np.linalg.norm(b[i]-a[i]) > r),i] = False    \n",
    "    \n",
    "    #exclude the targets whose scalar product is negative (they are on the other side of the step direction)\n",
    "    dotproduct = (np.transpose(np.tile(c[:,0],(a.shape[0],1)))- a[:,0]) * (b[:,0] - a[:,0]) + (np.transpose(np.tile(c[:,1],(a.shape[0],1)))- a[:,1])*(b[:,1] - a[:,1])\n",
    "    for coord in np.argwhere(dotproduct < 0):\n",
    "        mask[coord[0]][coord[1]] = False\n",
    "    \n",
    "    #exclude the targets that are beyond the step.\n",
    "    squaredlengthba = (b[:,0] - a[:,0])*(b[:,0] - a[:,0]) + (b[:,1] - a[:,1])*(b[:,1] - a[:,1])\n",
    "    for coord in np.argwhere(dotproduct > squaredlengthba):\n",
    "        mask[coord[0]][coord[1]] = False\n",
    "    \n",
    "    return mask"
   ]
  },
  {
   "cell_type": "code",
   "execution_count": null,
   "metadata": {},
   "outputs": [],
   "source": [
    "#|export\n",
    "def get_encounters(agent_previous_pos, agent_pos, target_positions, L, r):\n",
    "    \"\"\"\n",
    "    Considering the agent walks, it checks whether the agent finds a target while walking the current step.\n",
    "    Code to run several agents in parallel.\n",
    "    \n",
    "    Parameters\n",
    "    ----------\n",
    "    agent_previous_pos : array, shape = (n,2)\n",
    "        Position of the n agents before taking the step.\n",
    "    agent_pos : array, shape = (n,2)\n",
    "        Position of the n agents.\n",
    "    target_positions : array, shape = (Nt,2)\n",
    "        Positions of the targets.\n",
    "    L : int\n",
    "        World size.\n",
    "    r : float\n",
    "        Radius of the targets.\n",
    "    \n",
    "    Returns\n",
    "    -------\n",
    "    mask_encounters : array of boolean values, shape = (Nt, n)\n",
    "        True at the indices of found targets.\n",
    "\n",
    "    \"\"\"\n",
    "    \n",
    "    mask_encounters = isBetween_c_Vec_nAgents(agent_previous_pos, agent_pos, target_positions, r)\n",
    "    distance = np.sqrt((agent_previous_pos[:,0]-np.transpose(np.tile(target_positions[:,0],(agent_previous_pos.shape[0],1))))**2 +\\\n",
    "                       (agent_previous_pos[:,1]-np.transpose(np.tile(target_positions[:,1],(agent_previous_pos.shape[0],1))))**2)          \n",
    "    \n",
    "    #if there is more than one encounter, pick the one nearest the agent's position.\n",
    "    for ag, num_encounters in enumerate(np.sum(mask_encounters,axis=0)):\n",
    "        if num_encounters > 1:\n",
    "            min_distance_masked = np.argmin(distance[:, ag][mask_encounters[:, ag]])\n",
    "            first_encounter = np.arange(len(target_positions))[mask_encounters[:, ag]][min_distance_masked]\n",
    "            one_encounter_mask = np.zeros(len(target_positions), dtype=bool)\n",
    "            one_encounter_mask[first_encounter] = True\n",
    "            \n",
    "            mask_encounters[:, ag] = one_encounter_mask\n",
    "    \n",
    "    if np.sum(mask_encounters) >  agent_previous_pos.shape[0]:\n",
    "        print('One agent is getting more than one target')\n",
    "    \n",
    "    return mask_encounters"
   ]
  },
  {
   "cell_type": "markdown",
   "metadata": {},
   "source": [
    "## Numba verions"
   ]
  },
  {
   "cell_type": "markdown",
   "metadata": {},
   "source": [
    "### isBetween"
   ]
  },
  {
   "cell_type": "code",
   "execution_count": null,
   "metadata": {},
   "outputs": [],
   "source": [
    "# |export\n",
    "@njit\n",
    "def isBetween_c_Vec_numba(a, b, c, r):\n",
    "        \"\"\"\n",
    "        Checks whether point c is crossing the line formed with point a and b.\n",
    "\n",
    "        Parameters\n",
    "        ----------\n",
    "        a : tensor, shape = (1,2)\n",
    "            Previous position.\n",
    "        b : tensor, shape = (1,2)\n",
    "            Current position.\n",
    "        c : tensor, shape = (Nt,2)\n",
    "            Positions of all targets.\n",
    "        r : int/float\n",
    "            Target radius.\n",
    "\n",
    "        Returns\n",
    "        -------\n",
    "        mask : array of boolean values\n",
    "            True at the indices of found targets.\n",
    "\n",
    "        \"\"\"\n",
    "        if (a == b).all():\n",
    "            return np.array([False]*c.shape[0])\n",
    "\n",
    "        mask = np.array([True]*c.shape[0])\n",
    "        \n",
    "        dotproduct = (c[:, 0] - a[0]) * (b[0] - a[0]) + (c[:, 1] - a[1])*(b[1] - a[1])\n",
    "        squaredlengthba = (b[0] - a[0])*(b[0] - a[0]) + (b[1] - a[1])*(b[1] - a[1])\n",
    "        \n",
    "        #exclude the targets whose vertical projection of the vector c-a w.r.t. the vector b-a is larger than the target radius.\n",
    "        idx = np.argwhere(np.abs(numba.np.arraymath.cross2d(b-a, c-a))/np.linalg.norm(b-a) > r) \n",
    "        for i1 in idx:\n",
    "            mask[i1] = False        \n",
    "        \n",
    "        #exclude the targets whose scalar product is negative (they are on the other side of the step direction)\n",
    "        for i2 in np.argwhere(dotproduct < 0):\n",
    "            mask[i2] = False\n",
    "\n",
    "        #exclude the targets that are beyond the step.\n",
    "        for i3 in np.argwhere(dotproduct > squaredlengthba):\n",
    "            mask[i3] = False\n",
    "            \n",
    "        return mask"
   ]
  },
  {
   "cell_type": "code",
   "execution_count": null,
   "metadata": {},
   "outputs": [],
   "source": [
    "compiling = isBetween_c_Vec_numba(np.array([0.1,1]), np.array([1,3]), np.random.rand(100,2), 0.00001)"
   ]
  },
  {
   "cell_type": "code",
   "execution_count": null,
   "metadata": {},
   "outputs": [
    {
     "name": "stdout",
     "output_type": "stream",
     "text": [
      "4.48 μs ± 17.4 ns per loop (mean ± std. dev. of 7 runs, 100,000 loops each)\n"
     ]
    }
   ],
   "source": [
    "%timeit isBetween_c_Vec_numba(np.array([0.1,1]), np.array([1,3]), np.random.rand(100,2), 0.00001)"
   ]
  },
  {
   "cell_type": "code",
   "execution_count": null,
   "metadata": {},
   "outputs": [],
   "source": [
    "from rl_opts.utils import isBetween_c_Vec as oldbetween"
   ]
  },
  {
   "cell_type": "code",
   "execution_count": null,
   "metadata": {},
   "outputs": [
    {
     "name": "stdout",
     "output_type": "stream",
     "text": [
      "43.7 μs ± 180 ns per loop (mean ± std. dev. of 7 runs, 10,000 loops each)\n"
     ]
    }
   ],
   "source": [
    "%timeit oldbetween(np.array([0.1,1]), np.array([1,3]), np.random.rand(100,2), 0.00001)"
   ]
  },
  {
   "cell_type": "markdown",
   "metadata": {},
   "source": [
    "### Pareto sampling"
   ]
  },
  {
   "cell_type": "code",
   "execution_count": null,
   "metadata": {},
   "outputs": [],
   "source": [
    "# |export\n",
    "import random\n",
    "\n",
    "@njit\n",
    "def pareto_sample(alpha, xm, size=1):\n",
    "    samples = np.zeros(size)\n",
    "    for ii in range(size):\n",
    "        u = random.random()  # Uniform random variable between 0 and 1\n",
    "        x = xm / (u ** (1 / alpha))\n",
    "        samples[ii] = x\n",
    "    return samples"
   ]
  },
  {
   "cell_type": "markdown",
   "metadata": {},
   "source": [
    "### Random sampling from array with probs"
   ]
  },
  {
   "cell_type": "code",
   "execution_count": null,
   "metadata": {},
   "outputs": [],
   "source": [
    "# |export\n",
    "@njit\n",
    "def rand_choice_nb(arr, prob):\n",
    "    \"\"\"\n",
    "    :param arr: A 1D numpy array of values to sample from.\n",
    "    :param prob: A 1D numpy array of probabilities for the given samples.\n",
    "    :return: A random sample from the given array with a given probability.\n",
    "    \"\"\"\n",
    "    return arr[np.searchsorted(np.cumsum(prob), np.random.random(), side=\"right\")]"
   ]
  },
  {
   "cell_type": "markdown",
   "metadata": {},
   "source": [
    "# Loading data"
   ]
  },
  {
   "cell_type": "code",
   "execution_count": null,
   "metadata": {},
   "outputs": [],
   "source": [
    "#| export\n",
    "import yaml\n",
    "import numpy as np\n",
    "import pandas as pd"
   ]
  },
  {
   "cell_type": "code",
   "execution_count": null,
   "metadata": {},
   "outputs": [],
   "source": [
    "#|export\n",
    "def get_config(config, config_path = 'configurations/learning/'):\n",
    "    \"\"\"\n",
    "    \n",
    "    Get the configuration file of the given experiment and config name (e.g. exp_0).\n",
    "    \n",
    "    Parameters\n",
    "    ----------\n",
    "    config : str\n",
    "        Config name (e.g. exp_0)\n",
    "    experiment : str\n",
    "        Experiment name (e.g. 'learning')\n",
    "    config_path : str\n",
    "        path to configurations\n",
    "\n",
    "    Returns\n",
    "    -------\n",
    "    config_dict : dict\n",
    "        Dictionary with the parameters of the loaded configuration.\n",
    "    \"\"\"\n",
    "    \n",
    "    path = config_path + config \n",
    "    with open(path, 'r') as f:\n",
    "        config_dict = yaml.safe_load(f)\n",
    "    return config_dict"
   ]
  },
  {
   "cell_type": "code",
   "execution_count": null,
   "metadata": {},
   "outputs": [],
   "source": [
    "#|export\n",
    "def get_policy(results_path, agent, episode):\n",
    "    \"\"\"\n",
    "    Gets the policy of an agent at a given episode.\n",
    "\n",
    "    Parameters\n",
    "    ----------\n",
    "    results_path : str\n",
    "        Path of the folder from which to extract the data.\n",
    "    agent : int\n",
    "        Agent index.\n",
    "    episode : int\n",
    "        Episode.\n",
    "\n",
    "    Returns\n",
    "    -------\n",
    "    y : list\n",
    "        Policy.\n",
    "\n",
    "    \"\"\"\n",
    "    memories = np.load(results_path + 'memory_agent_'+str(agent)+'_episode_'+str(episode)+'.npy')\n",
    "    num_states = len(memories[0,0,:])\n",
    "    \n",
    "    y = []\n",
    "    for state_index in range(num_states):\n",
    "        y.append(memories[ 0, 0, state_index] / np.sum(memories[0, :,state_index]))\n",
    "       \n",
    "    return y\n"
   ]
  },
  {
   "cell_type": "code",
   "execution_count": null,
   "metadata": {},
   "outputs": [],
   "source": [
    "#|export\n",
    "def get_performance(results_path, agent_list, episode_list):\n",
    "    \"\"\"\n",
    "    Extract data with the efficiencies obtained in the postlearning analysis.\n",
    "\n",
    "    Parameters\n",
    "    ----------\n",
    "    results_path : str\n",
    "        Path of the folder from which to extract the data.\n",
    "    agent_list : list\n",
    "        List with the agent indices.\n",
    "    episode_list : list\n",
    "        List with the episodes.\n",
    "\n",
    "    Returns\n",
    "    -------\n",
    "    post_training_performance : np.array, shape=(len(agent_list), len(episode_list))\n",
    "        Average performances obtained by the agents in the postlearning analysis.\n",
    "    sem : np.array, shape=(len(agent_list), len(episode_list))\n",
    "        Standard deviation of the mean.\n",
    "\n",
    "    \"\"\"\n",
    "    post_training_performance = np.zeros([len(agent_list), len(episode_list)])\n",
    "    sem = np.zeros([len(agent_list), len(episode_list)])\n",
    "    \n",
    "    for ind, ag in enumerate(agent_list):\n",
    "        for e_index, episode in enumerate(episode_list):\n",
    "            perf = np.load(results_path + 'performance_post_training_agent_'+str(ag)+'_episode_'+str(episode)+'.npy')\n",
    "            post_training_performance[ind, e_index] = np.mean(perf)\n",
    "            sem[ind, e_index] = np.std(perf) / np.sqrt(len(perf))\n",
    "            \n",
    "    return post_training_performance, sem"
   ]
  },
  {
   "cell_type": "code",
   "execution_count": null,
   "metadata": {},
   "outputs": [],
   "source": [
    "#|export\n",
    "def get_opt(path, df):\n",
    "    \"\"\"\n",
    "    Get the highest efficiency obtained by the benchmark models and the corresponding parameters.\n",
    "\n",
    "    Parameters\n",
    "    ----------\n",
    "    path : str\n",
    "        Path from which to get the data.\n",
    "    df : panda dataframe\n",
    "        Dataframe with the results from the optimization with Tune.\n",
    "\n",
    "    Returns\n",
    "    -------\n",
    "    list\n",
    "        Efficiency of each walk.\n",
    "    list\n",
    "        Parameters of the benchmark model that achieved the highest efficiency.\n",
    "        Levy - list of the form [beta]\n",
    "        Bi-exp. - list of the form [d_int, d_ext, p]\n",
    "\n",
    "    \"\"\"\n",
    "    \n",
    "    filter_ = df['mean_eff'] == max(df['mean_eff'])\n",
    "    \n",
    "    if model == 'powerlaw':\n",
    "        par = [df[filter_]['config/beta'].values[0]]\n",
    "    \n",
    "    elif model == 'double_exp':\n",
    "        par = [df[filter_]['config/d_int'].values[0], df[filter_]['config/d_ext'].values[0], df[filter_]['config/p'].values[0]]\n",
    "        \n",
    "    if path:\n",
    "        effs = np.load(path+'efficiencies_'+str([np.round(p, 10) for p in par])+'.npy')\n",
    "    else:\n",
    "        effs = max(df['mean_eff'])\n",
    "\n",
    "    return effs, par "
   ]
  },
  {
   "cell_type": "code",
   "execution_count": null,
   "metadata": {},
   "outputs": [],
   "source": [
    "#| hide\n",
    "from nbdev import nbdev_export; nbdev_export()"
   ]
  }
 ],
 "metadata": {
  "kernelspec": {
   "display_name": "python3",
   "language": "python",
   "name": "python3"
  }
 },
 "nbformat": 4,
 "nbformat_minor": 4
}
