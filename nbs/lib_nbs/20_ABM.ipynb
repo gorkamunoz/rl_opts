{
 "cells": [
  {
   "cell_type": "code",
   "execution_count": null,
   "id": "77bbc794-cb37-461d-a612-fcb0951668e5",
   "metadata": {},
   "outputs": [],
   "source": [
    "#|default_exp virtual_abm"
   ]
  },
  {
   "cell_type": "code",
   "execution_count": null,
   "id": "9ed3c064-f850-4651-badc-ae2ee144d667",
   "metadata": {},
   "outputs": [],
   "source": [
    "#| export\n",
    "import numpy as np"
   ]
  },
  {
   "cell_type": "markdown",
   "id": "6815e1b6-c64b-41f5-b425-6396de963ea1",
   "metadata": {},
   "source": [
    "# Virtual environment \n",
    "This is a wrapper that merges the forager and agent whose only input is the displacement of a real particle at each step. The output is the action to be taken."
   ]
  },
  {
   "cell_type": "markdown",
   "id": "dd7bc51c-60d0-4879-a268-fad04634b56e",
   "metadata": {},
   "source": [
    "## Wrapper"
   ]
  },
  {
   "cell_type": "code",
   "execution_count": null,
   "id": "c5926c92-8b12-4adc-86d6-2c6882f1e0da",
   "metadata": {},
   "outputs": [],
   "source": [
    "#| export\n",
    "from rl_opts.rl_framework.numba.agents import Forager\n",
    "from rl_opts.rl_framework.numba.environments import TargetEnv"
   ]
  },
  {
   "cell_type": "code",
   "execution_count": null,
   "id": "f7ab99ed-034d-4a84-87d9-1a7749b45ccf",
   "metadata": {},
   "outputs": [],
   "source": [
    "#| export\n",
    "class virtual_ABM:\n",
    "\n",
    "    def __init__(self, \n",
    "                 num_episodes : int = None, # If int, number of episodes. If None, don't consider episodes\n",
    "                 time_ep : int = None, # If int, length of an episodes. If episodes = None, it is not considered.\n",
    "                 L : float = 5, # Size of the environment\n",
    "                 r : float = 1, # Radius of the target       \n",
    "                 max_counter : int = 500, # Maximum number for the agent's phase counter (i.e. what it gets as station)\n",
    "                 gamma_damping : float = 0.001, # Gamma of PS\n",
    "                 eta_glow_damping : float = 0.001, # Glow of PS                 \n",
    "                 max_no_H_update : int = int(1e4), # maximum number of steps before an update of H and G matrices.\n",
    "                 Nt :int = 1, # Number of targets\n",
    "                 g_update : str = 's' # How to update the G matrix. Either 's' for sum or 'r' for replace\n",
    "                 ):\n",
    "        \n",
    "        # Arguments for TargetEnv\n",
    "        destructive = True\n",
    "        lc = np.array([[1.0],[1]]) # Won't enter into effect if destructive = True\n",
    "        lc_distribution = 'constant' # Won't enter into effect if destructive = True\n",
    "        agent_step = 1\n",
    "\n",
    "        self.env = TargetEnv(Nt, L, r, lc, agent_step, 1, destructive, lc_distribution)\n",
    "       \n",
    "        self.particle_position = self.env.positions[0]\n",
    "\n",
    "        # Arguments for Forager\n",
    "        num_actions = 2\n",
    "        self.max_counter = max_counter\n",
    "        size_state_space = np.array([2, self.max_counter]) # first is phase (either active or passive). Second is the counter till last change\n",
    "        policy_type='standard' # Sampling of policy\n",
    "        beta_softmax=3 # Parameters if policy is softmax\n",
    "        initial_prob_distr = np.array([[],[]]) # Initial h-matrix\n",
    "        fixed_policy=np.array([[],[]]) # If considering a fixed policy\n",
    "        \n",
    "        self.agent = Forager(num_actions,size_state_space,gamma_damping,\n",
    "                             eta_glow_damping,policy_type,beta_softmax,\n",
    "                             initial_prob_distr,fixed_policy,max_no_H_update, g_update) \n",
    "\n",
    "    \n",
    "        \n",
    "        self.num_episodes = num_episodes\n",
    "        self.time_ep = time_ep\n",
    "\n",
    "        self.init_training()\n",
    "        \n",
    "\n",
    "    def _particle_position(self):\n",
    "        return self.env.positions[0]\n",
    "    def _target_position(self):\n",
    "        return self.env.target_positions[0] \n",
    "    \n",
    "    def init_training(self):\n",
    "        ''' Initializes the environment and epochs '''\n",
    "        self.init_virtual_env()\n",
    "        \n",
    "        if self.num_episodes: \n",
    "            self.epoch = -1 # we start at -1 because init_epoch will sum one and set it at zero.\n",
    "            self.init_epoch()\n",
    "\n",
    "        self.done = False\n",
    "\n",
    "    def init_virtual_env(self):\n",
    "        # Current phase is: 0 for passive, 1 for active\n",
    "        self.current_phase = 0 # Starting always in the passive phase\n",
    "\n",
    "        # Initialize the environment (puts agent and target in random position)\n",
    "        self.env.init_env()\n",
    "\n",
    "        # Initialize / Reset agent's props\n",
    "        self.agent.agent_state = 0\n",
    "        self.agent.reset_g()\n",
    "        self.agent.N_upd_H = 0\n",
    "        self.agent.N_upd_G = 0\n",
    "\n",
    "    def init_epoch(self):\n",
    "        ''' Initializes a new epoch '''\n",
    "        self.init_virtual_env()\n",
    "        self.epoch += 1\n",
    "        self.t_ep = 0\n",
    "\n",
    "    def step(self, disp, return_reward = False):\n",
    "        ''' Makes a step in the virtual environment and subsequently learns'''\n",
    "\n",
    "        # Given the new displacement, update the environment and get the reward\n",
    "        self.env.update_pos_disp(disp)        \n",
    "             \n",
    "        # If we are in the passive phase, we check encounters with targets\n",
    "        if self.current_phase == 0:\n",
    "            reward = self.env.check_encounter()         \n",
    "        # If in active phase, we can't get targets hence reward is 0\n",
    "        else:\n",
    "            reward = 0\n",
    "\n",
    "        # Checking boundary conditions\n",
    "        self.env.check_bc()\n",
    "         \n",
    "        # Learn\n",
    "        # Now that we collected the reward, we have s,a,R and can learn        \n",
    "        # First we update the H update counter\n",
    "        self.agent.N_upd_H += 1  \n",
    "        self.agent.N_upd_G += 1       \n",
    "        # If the rewards are not zero or we reach the maximum no upd counters, we update\n",
    "        if (reward != 0) or (self.agent.N_upd_H == self.agent.max_no_H_update-1):\n",
    "            self.agent._learn_post_reward(reward)\n",
    "        \n",
    "        \n",
    "        # Acting\n",
    "        # Create a state based on current phase and agent state\n",
    "        state = np.array([self.current_phase, self.agent.agent_state])\n",
    "        # Get an action based on this state\n",
    "        action = self.agent.deliberate(state)\n",
    "        \n",
    "        if action == 0: # Continuing in the same phase\n",
    "            self.agent.agent_state += 1 \n",
    "        elif action == 1:\n",
    "            self.agent.agent_state = 0\n",
    "            self.current_phase = 1 - self.current_phase\n",
    "\n",
    "        if self.agent.agent_state == self.max_counter - 1:\n",
    "            self.agent.agent_state = 0\n",
    "\n",
    "        if self.num_episodes:\n",
    "            self.t_ep += 1\n",
    "            if self.t_ep == self.time_ep:\n",
    "                self.done = True\n",
    "                # self.init_epoch()\n",
    "        if reward != 0:\n",
    "            self.done = True\n",
    "            \n",
    "\n",
    "        if return_reward:\n",
    "            return action, reward\n",
    "        else:\n",
    "            return action\n",
    "        "
   ]
  },
  {
   "cell_type": "markdown",
   "id": "a68c5f9e-05f0-4457-8ce9-e4e3d1ed171a",
   "metadata": {},
   "source": [
    "### Testing on ABM"
   ]
  },
  {
   "cell_type": "code",
   "execution_count": null,
   "id": "dc2967f1-123a-43b3-8648-9e46ff795e80",
   "metadata": {},
   "outputs": [],
   "source": [
    "#| export\n",
    "#| hide\n",
    "def get_ABM_motion(x, y, theta, phi, vdt, sigma, sigma_theta, L, bc_periodic=None):\n",
    "       \n",
    "    x += phi * vdt * np.cos(theta) + sigma * np.random.randn()     \n",
    "    if bc_periodic is not None:\n",
    "          x = x % L\n",
    "\n",
    "    y += phi * vdt * np.sin(theta) + sigma * np.random.randn() \n",
    "    if bc_periodic is not None:\n",
    "        y = y % L\n",
    "\n",
    "    theta += sigma_theta * np.random.randn() \n",
    "    return x, y, theta"
   ]
  },
  {
   "cell_type": "code",
   "execution_count": null,
   "id": "b5cfb8f0-a6b5-473b-8e04-db877a2d1377",
   "metadata": {},
   "outputs": [],
   "source": [
    "#| hide\n",
    "import matplotlib.pyplot as plt"
   ]
  },
  {
   "cell_type": "code",
   "execution_count": null,
   "id": "a165e300-28c0-4c68-982d-1161b384b343",
   "metadata": {},
   "outputs": [],
   "source": [
    "#| hide\n",
    "D = 2 # mum² s⁻¹\n",
    "L = 50 # mu² \n",
    "tau = 1.25 * 1e3 # s\n",
    "Pe = 100\n",
    "v = Pe * L / tau\n",
    "dt = tau*1e-4\n",
    "vdt = v*dt\n",
    "ell = 10\n",
    "D_theta = v/ell\n",
    "\n",
    "sigma = np.sqrt(2*D*dt);\n",
    "sigma_theta = np.sqrt(2*D_theta*dt)\n",
    "\n",
    "r = 5\n",
    "# venv = virtual_ABM(L = L, r = r, num_episodes = 50, time_ep = 5)\n",
    "venv = virtual_ABM(L = L, r = r, num_episodes = None)\n",
    "venv.init_virtual_env()\n",
    "# manually creating longer passive phases:\n",
    "venv.agent.h_matrix[:500,0] *= 100\n",
    "\n",
    "venv.env.positions = np.array([[L/2, L/2]])\n",
    "venv.env.target_positions = np.array([[L/2, L/2]])"
   ]
  },
  {
   "cell_type": "code",
   "execution_count": null,
   "id": "3d5edc3c-b9e6-43f8-a061-c11ff9014007",
   "metadata": {},
   "outputs": [
    {
     "name": "stdout",
     "output_type": "stream",
     "text": [
      "[array([25., 25.])]\n",
      "sdf\n",
      "[array([25., 25.]), array([31.61592506, 48.23955463])]\n"
     ]
    }
   ],
   "source": [
    "#| hide\n",
    "theta = 2*np.pi*np.random.rand()\n",
    "phi = 0\n",
    "T = 50\n",
    "\n",
    "pos = np.zeros((T, 2))\n",
    "pos[0] = venv.env.positions[0].copy()\n",
    "phase = np.zeros(T)\n",
    "rewards = np.zeros(T)\n",
    "pos_f = pos.copy()\n",
    "\n",
    "targets_pos = [venv.env.target_positions[0].copy()]\n",
    "print(targets_pos)\n",
    "for t in range(1, T):    \n",
    "    # if t == int(T/2): phi = 1\n",
    "\n",
    "    x0, y0 = venv.env.positions[0].copy()\n",
    "    x1, y1, theta = get_ABM_motion(x0, y0, theta, phi, vdt, sigma, sigma_theta, L)\n",
    "    \n",
    "    \n",
    "    action, reward = venv.step((x1-x0, y1-y0), return_reward=True)\n",
    "    \n",
    "    if action == 1:\n",
    "        phi = 1 - phi\n",
    "        \n",
    "    \n",
    "    pos[t] = venv.env.positions[0].copy()\n",
    "    \n",
    "    phase[t] = venv.current_phase\n",
    "    if reward == 1: \n",
    "        print('sdf')\n",
    "        targets_pos.append(venv.env.target_positions[0].copy())\n",
    "        print(targets_pos)\n",
    "    rewards[t] = reward"
   ]
  },
  {
   "cell_type": "code",
   "execution_count": null,
   "id": "86a959ad-263d-4289-92a1-b60f68d77bf3",
   "metadata": {},
   "outputs": [
    {
     "data": {
      "image/png": "[encoded data removed]",
      "text/plain": [
       "<Figure size 640x480 with 1 Axes>"
      ]
     },
     "metadata": {},
     "output_type": "display_data"
    }
   ],
   "source": [
    "#| hide\n",
    "import matplotlib.pyplot as plt\n",
    "import matplotlib.patches as patches\n",
    "fig, ax = plt.subplots()\n",
    "\n",
    "ax.plot(pos[:,0], pos[:,1])\n",
    "# ax.scatter(pos[phase == 0,0], pos[phase == 0,1], c = 'r')\n",
    "# ax.scatter(pos[phase == 1,0], pos[phase == 1,1], c = 'g')\n",
    "ax.scatter(pos[rewards == 1,0], pos[rewards == 1,1], c = 'g')\n",
    "\n",
    "for tp in targets_pos:\n",
    "    circle = patches.Circle(tp, radius=r, linewidth=1, edgecolor='k', facecolor='none')\n",
    "    ax.add_patch(circle)\n",
    "\n",
    "ax.set_xlim(0, L)\n",
    "ax.set_ylim(0, L)\n",
    "ax.set_aspect('equal', 'box')"
   ]
  },
  {
   "cell_type": "markdown",
   "id": "e366a657",
   "metadata": {},
   "source": [
    "# Parallel training launchers"
   ]
  },
  {
   "cell_type": "code",
   "execution_count": null,
   "id": "52590ad3",
   "metadata": {},
   "outputs": [],
   "source": []
  },
  {
   "cell_type": "code",
   "execution_count": null,
   "id": "c1685d94-1c12-4b92-8468-ce4071f7f47b",
   "metadata": {},
   "outputs": [],
   "source": [
    "#| hide\n",
    "from nbdev import nbdev_export\n",
    "nbdev_export()"
   ]
  }
 ],
 "metadata": {
  "kernelspec": {
   "display_name": "rl_opts_origin",
   "language": "python",
   "name": "rl_opts_origin"
  }
 },
 "nbformat": 4,
 "nbformat_minor": 5
}
